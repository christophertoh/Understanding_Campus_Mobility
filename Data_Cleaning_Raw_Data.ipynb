{
 "cells": [
  {
   "cell_type": "code",
   "execution_count": 2,
   "metadata": {},
   "outputs": [],
   "source": [
    "# This code cleans the raw data from NTU CITS Wi-Fi Access Points\n",
    "# The code is split into 3 parts:\n",
    "#    1. Nov 2019 data\n",
    "#    2. Sep 2019 data\n",
    "#    3. Oct 2019 data\n",
    "# Reason for split in parts due to different file names, and lack of standardised column names in raw data extracted"
   ]
  },
  {
   "cell_type": "markdown",
   "metadata": {},
   "source": [
    "## Cleaning for Nov2019 data"
   ]
  },
  {
   "cell_type": "code",
   "execution_count": 1,
   "metadata": {},
   "outputs": [],
   "source": [
    "import pandas as pd\n",
    "import numpy as np\n",
    "import matplotlib.pyplot as plt"
   ]
  },
  {
   "cell_type": "code",
   "execution_count": 2,
   "metadata": {},
   "outputs": [],
   "source": [
    "## Nov Data\n",
    "df1 = pd.read_csv('Nov2019_1.csv')"
   ]
  },
  {
   "cell_type": "code",
   "execution_count": null,
   "metadata": {},
   "outputs": [],
   "source": [
    "df1 = pd.read_csv('Nov2019_2.csv')"
   ]
  },
  {
   "cell_type": "code",
   "execution_count": null,
   "metadata": {},
   "outputs": [],
   "source": [
    "df1 = pd.read_csv('Nov2019_3.csv')"
   ]
  },
  {
   "cell_type": "code",
   "execution_count": null,
   "metadata": {},
   "outputs": [],
   "source": [
    "df1 = pd.read_csv('Nov2019_4.csv')"
   ]
  },
  {
   "cell_type": "code",
   "execution_count": null,
   "metadata": {},
   "outputs": [],
   "source": [
    "df1 = pd.read_csv('Nov2019_5.csv')"
   ]
  },
  {
   "cell_type": "code",
   "execution_count": null,
   "metadata": {},
   "outputs": [],
   "source": [
    "df1 = pd.read_csv('Nov2019_6.csv')"
   ]
  },
  {
   "cell_type": "code",
   "execution_count": 3,
   "metadata": {},
   "outputs": [],
   "source": [
    "# Splitting association time \n",
    "df1.columns = df1.columns.str.strip().str.lower().str.replace(' ','_')\n",
    "\n",
    "\n",
    "df1[\"WeekDay\"] = df1[\"association_time\"].str.split(\" \").str[0]\n",
    "df1[\"Month\"] = df1[\"association_time\"].str.split(\" \").str[1]\n",
    "df1[\"Day\"] = df1[\"association_time\"].str.split(\" \").str[2]\n",
    "df1[\"Time\"] = df1[\"association_time\"].str.split(\" \").str[3]\n",
    "df1[\"Hour\"] = df1[\"Time\"].str.split(\":\").str[0]\n",
    "df1[\"Minute\"] = df1[\"Time\"].str.split(\":\").str[1]"
   ]
  },
  {
   "cell_type": "code",
   "execution_count": 4,
   "metadata": {},
   "outputs": [
    {
     "data": {
      "text/plain": [
       "27"
      ]
     },
     "execution_count": 4,
     "metadata": {},
     "output_type": "execute_result"
    }
   ],
   "source": [
    "column_list=list(df1.columns)\n",
    "len(column_list)"
   ]
  },
  {
   "cell_type": "code",
   "execution_count": 5,
   "metadata": {},
   "outputs": [
    {
     "data": {
      "text/plain": [
       "Index(['client_ip_address', 'client_mac_address', 'association_time',\n",
       "       'ap_name', 'radio_type', 'device_name', 'map_location', 'ssid',\n",
       "       'vlan_id', 'protocol', 'session_duration',\n",
       "       'avg._session_throughput(kbps)', 'client_type', 'speed',\n",
       "       'ap_mac_address', 'ap_ip_address', 'device_ip', 'mobility_controller',\n",
       "       'disassociation_time', 'authentication_algorithm', 'bytes_sent',\n",
       "       'packets_sent', 'packets_received', 'snr_(db)', 'bytes_received',\n",
       "       'rssi_(dbm)', 'reason', 'WeekDay', 'Month', 'Day', 'Time', 'Hour',\n",
       "       'Minute'],\n",
       "      dtype='object')"
      ]
     },
     "execution_count": 5,
     "metadata": {},
     "output_type": "execute_result"
    }
   ],
   "source": [
    "df1.columns"
   ]
  },
  {
   "cell_type": "code",
   "execution_count": null,
   "metadata": {},
   "outputs": [],
   "source": [
    "# Splitting ap_name\n",
    "df1[\"ap_general_location\"] = df1[\"ap_name\"].str.split(\"_\").str[0].str.split(\"-\").str[0]\n",
    "df1[\"ap_specific_location\"] = df1[\"ap_name\"].str.split(\"_\").str[0].str.split(\"-\").str[0:2:1]\n",
    "df1[\"ap_specific_location\"] = df1[\"ap_specific_location\"].str.join(\"-\")"
   ]
  },
  {
   "cell_type": "code",
   "execution_count": null,
   "metadata": {},
   "outputs": [],
   "source": [
    "df1.shape"
   ]
  },
  {
   "cell_type": "code",
   "execution_count": null,
   "metadata": {},
   "outputs": [],
   "source": [
    "# Dropping redundant columns\n",
    "df1 = df1.drop(columns =['radio_type','map_location','avg._session_throughput(kbps)', 'protocol',\n",
    "                         'client_type', 'speed', 'ap_mac_address', 'ap_ip_address', 'device_ip', 'device_name', 'client_ip_address',\n",
    "                         'mobility_controller', 'disassociation_time', 'authentication_algorithm', 'bytes_sent',\n",
    "                         'packets_sent', 'packets_received', 'snr_(db)', 'bytes_received', 'rssi_(dbm)', 'reason'], axis=1)"
   ]
  },
  {
   "cell_type": "code",
   "execution_count": null,
   "metadata": {},
   "outputs": [],
   "source": [
    "df1.columns"
   ]
  },
  {
   "cell_type": "code",
   "execution_count": null,
   "metadata": {},
   "outputs": [],
   "source": [
    "df1['ap_specific_location'].unique()"
   ]
  },
  {
   "cell_type": "code",
   "execution_count": null,
   "metadata": {},
   "outputs": [],
   "source": [
    "# Creating the 'lat' and 'long' columns to input the coordinates from the uniquelocations.csv file\n",
    "df1_uniqueLocation = pd.read_csv(\"uniqueLocation.csv\", delimiter=\",\", index_col=0)\n",
    "df1_uniqueLocation = df1_uniqueLocation.set_index('ap_specific_location')\n",
    "df1['lat'] = df1.ap_specific_location.map(df1_uniqueLocation.lat)\n",
    "df1['long'] = df1.ap_specific_location.map(df1_uniqueLocation.long)\n",
    "\n",
    "# Remove null values -- as null values are not on NTU main campus due to inability to retrieve coordinates\n",
    "df1 = df1[df1['lat'].notnull()]"
   ]
  },
  {
   "cell_type": "code",
   "execution_count": null,
   "metadata": {},
   "outputs": [],
   "source": [
    "df1.astype({'Day':'int32'})\n",
    "df1['DayMonth'] = df1['Day'].map(str) + df1['Month']\n",
    "df1['DayMonth'].unique()\n",
    "print(df1['DayMonth'].unique())\n",
    "print(df1['WeekDay'].unique())\n",
    "## Data is 29 days -- 30 oct to 27 nov"
   ]
  },
  {
   "cell_type": "code",
   "execution_count": null,
   "metadata": {},
   "outputs": [],
   "source": [
    "df1.head()"
   ]
  },
  {
   "cell_type": "code",
   "execution_count": null,
   "metadata": {},
   "outputs": [],
   "source": [
    "week_30Oct_5Nov = ['30Oct','31Oct','01Nov','02Nov','03Nov','04Nov','05Nov']\n",
    "week_6Nov_12Nov = ['06Nov','07Nov','08Nov','09Nov','10Nov','11Nov','12Nov']\n",
    "week_13Nov_19Nov = ['13Nov','14Nov','15Nov','16Nov','17Nov','18Nov','19Nov']\n",
    "week_20Nov_26Nov = ['20Nov', '21Nov','22Nov','23Nov','24Nov','25Nov','26Nov']\n",
    "\n",
    "df1_Nov2019_wk1 = df1[df1.DayMonth.isin(week_30Oct_5Nov)]\n",
    "df1_Nov2019_wk2 = df1[df1.DayMonth.isin(week_6Nov_12Nov)]\n",
    "df1_Nov2019_wk3 = df1[df1.DayMonth.isin(week_13Nov_19Nov)]\n",
    "df1_Nov2019_wk4 = df1[df1.DayMonth.isin(week_20Nov_26Nov)]"
   ]
  },
  {
   "cell_type": "code",
   "execution_count": null,
   "metadata": {},
   "outputs": [],
   "source": [
    "# df1_Nov2019_wk1.to_csv('Old_Cleaned_CSV_Data/Nov2019_wk1.csv', mode='a', header=True, index=False)\n",
    "# df1_Nov2019_wk2.to_csv('Old_Cleaned_CSV_Data/Nov2019_wk2.csv', mode='a', header=True, index=False)\n",
    "# df1_Nov2019_wk3.to_csv('Old_Cleaned_CSV_Data/Nov2019_wk3.csv', mode='a', header=True, index=False)\n",
    "# df1_Nov2019_wk4.to_csv('Old_Cleaned_CSV_Data/Nov2019_wk4.csv', mode='a', header=True, index=False)\n",
    "\n",
    "df1_Nov2019_wk1.to_csv('Old_Cleaned_CSV_Data/Nov2019_wk1.csv', mode='a', header=False, index=False)\n",
    "df1_Nov2019_wk2.to_csv('Old_Cleaned_CSV_Data/Nov2019_wk2.csv', mode='a', header=False, index=False)\n",
    "df1_Nov2019_wk3.to_csv('Old_Cleaned_CSV_Data/Nov2019_wk3.csv', mode='a', header=False, index=False)\n",
    "df1_Nov2019_wk4.to_csv('Old_Cleaned_CSV_Data/Nov2019_wk4.csv', mode='a', header=False, index=False)"
   ]
  },
  {
   "cell_type": "markdown",
   "metadata": {},
   "source": [
    "## Cleaning for Sep 2019 data"
   ]
  },
  {
   "cell_type": "code",
   "execution_count": 1,
   "metadata": {},
   "outputs": [],
   "source": [
    "import pandas as pd\n",
    "import numpy as np\n",
    "import matplotlib.pyplot as plt"
   ]
  },
  {
   "cell_type": "code",
   "execution_count": 2,
   "metadata": {},
   "outputs": [
    {
     "name": "stdout",
     "output_type": "stream",
     "text": [
      "(900000, 18)\n",
      "(335304, 18)\n",
      "(1235304, 18)\n"
     ]
    }
   ],
   "source": [
    "Sep1 = pd.read_csv('Sep2019_Wk1_2-5.csv')\n",
    "Sep2 = pd.read_csv('Sep2019_Wk1_5-6.csv')\n",
    "print(Sep1.shape)\n",
    "print(Sep2.shape)\n",
    "df1 = pd.concat([Sep1,Sep2],axis=0)\n",
    "print(df1.shape)"
   ]
  },
  {
   "cell_type": "code",
   "execution_count": 3,
   "metadata": {},
   "outputs": [],
   "source": [
    "# cleaning column names\n",
    "df1.columns = df1.columns.str.strip().str.lower().str.replace(' ','_')"
   ]
  },
  {
   "cell_type": "code",
   "execution_count": 4,
   "metadata": {
    "scrolled": true
   },
   "outputs": [
    {
     "data": {
      "text/plain": [
       "Index(['client_ip_address', 'client_mac_address', 'association_time', 'vendor',\n",
       "       'ap_name', 'radio_type', 'device_name', 'map_location', 'ssid',\n",
       "       'profile', 'vlan_id', 'protocol', 'session_duration', 'policy_type',\n",
       "       'avg._session_throughput(kbps)', 'disassociation_time', 'reason',\n",
       "       'endpoint_type'],\n",
       "      dtype='object')"
      ]
     },
     "execution_count": 4,
     "metadata": {},
     "output_type": "execute_result"
    }
   ],
   "source": [
    "df1.columns"
   ]
  },
  {
   "cell_type": "code",
   "execution_count": 5,
   "metadata": {
    "scrolled": true
   },
   "outputs": [
    {
     "data": {
      "text/html": [
       "<div>\n",
       "<style scoped>\n",
       "    .dataframe tbody tr th:only-of-type {\n",
       "        vertical-align: middle;\n",
       "    }\n",
       "\n",
       "    .dataframe tbody tr th {\n",
       "        vertical-align: top;\n",
       "    }\n",
       "\n",
       "    .dataframe thead th {\n",
       "        text-align: right;\n",
       "    }\n",
       "</style>\n",
       "<table border=\"1\" class=\"dataframe\">\n",
       "  <thead>\n",
       "    <tr style=\"text-align: right;\">\n",
       "      <th></th>\n",
       "      <th>client_ip_address</th>\n",
       "      <th>client_mac_address</th>\n",
       "      <th>association_time</th>\n",
       "      <th>vendor</th>\n",
       "      <th>ap_name</th>\n",
       "      <th>radio_type</th>\n",
       "      <th>device_name</th>\n",
       "      <th>map_location</th>\n",
       "      <th>ssid</th>\n",
       "      <th>profile</th>\n",
       "      <th>vlan_id</th>\n",
       "      <th>protocol</th>\n",
       "      <th>session_duration</th>\n",
       "      <th>policy_type</th>\n",
       "      <th>avg._session_throughput(kbps)</th>\n",
       "      <th>disassociation_time</th>\n",
       "      <th>reason</th>\n",
       "      <th>endpoint_type</th>\n",
       "    </tr>\n",
       "  </thead>\n",
       "  <tbody>\n",
       "    <tr>\n",
       "      <th>0</th>\n",
       "      <td>172.22.152.75</td>\n",
       "      <td>04:d6:aa:dc:c6:96</td>\n",
       "      <td>Mon Sep 02 01:04:49 SGT 2019</td>\n",
       "      <td>SAMSUNG ELECTRO-MECH</td>\n",
       "      <td>NS1-B1-01_AP6_NS1-B1-25</td>\n",
       "      <td>802.11b/g</td>\n",
       "      <td>WS1_WLC_2B</td>\n",
       "      <td>Yunnan &gt; North Spine &gt; North Spine B1</td>\n",
       "      <td>NTUSECURE</td>\n",
       "      <td>NTUSECURE</td>\n",
       "      <td>128</td>\n",
       "      <td>802.11g</td>\n",
       "      <td>5 min 0 sec</td>\n",
       "      <td>WPA2</td>\n",
       "      <td>&lt;0.1</td>\n",
       "      <td>Mon Sep 02 01:09:49 SGT 2019</td>\n",
       "      <td>No longer seen from controller</td>\n",
       "      <td>Linux-Workstation</td>\n",
       "    </tr>\n",
       "    <tr>\n",
       "      <th>1</th>\n",
       "      <td>10.27.36.135</td>\n",
       "      <td>2c:33:7a:40:dc:7b</td>\n",
       "      <td>Mon Sep 02 01:04:49 SGT 2019</td>\n",
       "      <td>Hon Hai Precision In</td>\n",
       "      <td>SPMS-CBC-06-42_AP6_SPMSCBC05CR3</td>\n",
       "      <td>802.11a</td>\n",
       "      <td>WS1_WLC_3B</td>\n",
       "      <td>Yunnan &gt; SPMS &gt; SPMS-L6 (Chemistry)</td>\n",
       "      <td>NTUSECURE</td>\n",
       "      <td>NTUSECURE</td>\n",
       "      <td>27</td>\n",
       "      <td>802.11a</td>\n",
       "      <td>1 hrs 41 min 12 sec</td>\n",
       "      <td>WPA2</td>\n",
       "      <td>&lt;0.1</td>\n",
       "      <td>Mon Sep 02 02:46:01 SGT 2019</td>\n",
       "      <td>No longer seen from controller</td>\n",
       "      <td>Microsoft-Workstation</td>\n",
       "    </tr>\n",
       "    <tr>\n",
       "      <th>2</th>\n",
       "      <td>172.22.152.147</td>\n",
       "      <td>04:db:56:e4:29:a6</td>\n",
       "      <td>Mon Sep 02 01:04:49 SGT 2019</td>\n",
       "      <td>Apple, Inc.</td>\n",
       "      <td>NS1-B1-26_AP10_NS1-B1-25</td>\n",
       "      <td>802.11a</td>\n",
       "      <td>WS1_WLC_2B</td>\n",
       "      <td>Yunnan &gt; North Spine &gt; North Spine B1</td>\n",
       "      <td>NTUSECURE</td>\n",
       "      <td>NTUSECURE</td>\n",
       "      <td>128</td>\n",
       "      <td>802.11a</td>\n",
       "      <td>5 hrs 46 min 58 sec</td>\n",
       "      <td>WPA2</td>\n",
       "      <td>1,136.50</td>\n",
       "      <td>Mon Sep 02 06:51:47 SGT 2019</td>\n",
       "      <td>No longer seen from controller</td>\n",
       "      <td>none</td>\n",
       "    </tr>\n",
       "    <tr>\n",
       "      <th>3</th>\n",
       "      <td>10.27.36.214</td>\n",
       "      <td>78:7b:8a:ed:44:83</td>\n",
       "      <td>Mon Sep 02 01:04:49 SGT 2019</td>\n",
       "      <td>Apple, Inc.</td>\n",
       "      <td>SPMS-PAP-04_19AP8_SPMS-04-CR3</td>\n",
       "      <td>802.11a</td>\n",
       "      <td>WS1_WLC_2A</td>\n",
       "      <td>Yunnan &gt; SPMS &gt; SPMS-L4 (Physics)</td>\n",
       "      <td>NTUSECURE</td>\n",
       "      <td>NTUSECURE</td>\n",
       "      <td>27</td>\n",
       "      <td>802.11a</td>\n",
       "      <td>5 min 0 sec</td>\n",
       "      <td>WPA2</td>\n",
       "      <td>&lt;0.1</td>\n",
       "      <td>Mon Sep 02 01:09:49 SGT 2019</td>\n",
       "      <td>No longer seen from controller</td>\n",
       "      <td>Apple-Device</td>\n",
       "    </tr>\n",
       "    <tr>\n",
       "      <th>4</th>\n",
       "      <td>172.22.134.239</td>\n",
       "      <td>14:a5:1a:6a:6b:17</td>\n",
       "      <td>Mon Sep 02 01:04:49 SGT 2019</td>\n",
       "      <td>HUAWEI TECHNOLOGIES</td>\n",
       "      <td>NEC-03-28_AP5_NEC-03-E04</td>\n",
       "      <td>802.11b/g</td>\n",
       "      <td>WS3_WLC_3A</td>\n",
       "      <td>Yunnan &gt; NEC &gt; 3</td>\n",
       "      <td>NTUWL</td>\n",
       "      <td>NTUWL</td>\n",
       "      <td>128</td>\n",
       "      <td>802.11g</td>\n",
       "      <td>10 min 1 sec</td>\n",
       "      <td>NOTAVAILABLE</td>\n",
       "      <td>&lt;0.1</td>\n",
       "      <td>Mon Sep 02 01:14:50 SGT 2019</td>\n",
       "      <td>No longer seen from controller</td>\n",
       "      <td>Unknown</td>\n",
       "    </tr>\n",
       "  </tbody>\n",
       "</table>\n",
       "</div>"
      ],
      "text/plain": [
       "  client_ip_address client_mac_address              association_time  \\\n",
       "0     172.22.152.75  04:d6:aa:dc:c6:96  Mon Sep 02 01:04:49 SGT 2019   \n",
       "1      10.27.36.135  2c:33:7a:40:dc:7b  Mon Sep 02 01:04:49 SGT 2019   \n",
       "2    172.22.152.147  04:db:56:e4:29:a6  Mon Sep 02 01:04:49 SGT 2019   \n",
       "3      10.27.36.214  78:7b:8a:ed:44:83  Mon Sep 02 01:04:49 SGT 2019   \n",
       "4    172.22.134.239  14:a5:1a:6a:6b:17  Mon Sep 02 01:04:49 SGT 2019   \n",
       "\n",
       "                 vendor                          ap_name radio_type  \\\n",
       "0  SAMSUNG ELECTRO-MECH          NS1-B1-01_AP6_NS1-B1-25  802.11b/g   \n",
       "1  Hon Hai Precision In  SPMS-CBC-06-42_AP6_SPMSCBC05CR3    802.11a   \n",
       "2           Apple, Inc.         NS1-B1-26_AP10_NS1-B1-25    802.11a   \n",
       "3           Apple, Inc.    SPMS-PAP-04_19AP8_SPMS-04-CR3    802.11a   \n",
       "4   HUAWEI TECHNOLOGIES         NEC-03-28_AP5_NEC-03-E04  802.11b/g   \n",
       "\n",
       "  device_name                           map_location       ssid    profile  \\\n",
       "0  WS1_WLC_2B  Yunnan > North Spine > North Spine B1  NTUSECURE  NTUSECURE   \n",
       "1  WS1_WLC_3B    Yunnan > SPMS > SPMS-L6 (Chemistry)  NTUSECURE  NTUSECURE   \n",
       "2  WS1_WLC_2B  Yunnan > North Spine > North Spine B1  NTUSECURE  NTUSECURE   \n",
       "3  WS1_WLC_2A      Yunnan > SPMS > SPMS-L4 (Physics)  NTUSECURE  NTUSECURE   \n",
       "4  WS3_WLC_3A                       Yunnan > NEC > 3      NTUWL      NTUWL   \n",
       "\n",
       "   vlan_id protocol     session_duration   policy_type  \\\n",
       "0      128  802.11g          5 min 0 sec          WPA2   \n",
       "1       27  802.11a  1 hrs 41 min 12 sec          WPA2   \n",
       "2      128  802.11a  5 hrs 46 min 58 sec          WPA2   \n",
       "3       27  802.11a          5 min 0 sec          WPA2   \n",
       "4      128  802.11g         10 min 1 sec  NOTAVAILABLE   \n",
       "\n",
       "  avg._session_throughput(kbps)           disassociation_time  \\\n",
       "0                          <0.1  Mon Sep 02 01:09:49 SGT 2019   \n",
       "1                          <0.1  Mon Sep 02 02:46:01 SGT 2019   \n",
       "2                      1,136.50  Mon Sep 02 06:51:47 SGT 2019   \n",
       "3                          <0.1  Mon Sep 02 01:09:49 SGT 2019   \n",
       "4                          <0.1  Mon Sep 02 01:14:50 SGT 2019   \n",
       "\n",
       "                           reason          endpoint_type  \n",
       "0  No longer seen from controller      Linux-Workstation  \n",
       "1  No longer seen from controller  Microsoft-Workstation  \n",
       "2  No longer seen from controller                   none  \n",
       "3  No longer seen from controller           Apple-Device  \n",
       "4  No longer seen from controller                Unknown  "
      ]
     },
     "execution_count": 5,
     "metadata": {},
     "output_type": "execute_result"
    }
   ],
   "source": [
    "df1.head()"
   ]
  },
  {
   "cell_type": "code",
   "execution_count": 6,
   "metadata": {},
   "outputs": [],
   "source": [
    "# Splitting association time \n",
    "df1[\"WeekDay\"] = df1[\"association_time\"].str.split(\" \").str[0]\n",
    "df1[\"Month\"] = df1[\"association_time\"].str.split(\" \").str[1]\n",
    "df1[\"Day\"] = df1[\"association_time\"].str.split(\" \").str[2]\n",
    "df1[\"Time\"] = df1[\"association_time\"].str.split(\" \").str[3]\n",
    "df1[\"Hour\"] = df1[\"Time\"].str.split(\":\").str[0]\n",
    "df1[\"Minute\"] = df1[\"Time\"].str.split(\":\").str[1]"
   ]
  },
  {
   "cell_type": "code",
   "execution_count": 5,
   "metadata": {},
   "outputs": [],
   "source": [
    "# Splitting ap_name\n",
    "df1[\"ap_general_location\"] = df1[\"ap_name\"].str.split(\"_\").str[0].str.split(\"-\").str[0]\n",
    "df1[\"ap_specific_location\"] = df1[\"ap_name\"].str.split(\"_\").str[0].str.split(\"-\").str[0:2:1]\n",
    "df1[\"ap_specific_location\"] = df1[\"ap_specific_location\"].str.join(\"-\")"
   ]
  },
  {
   "cell_type": "code",
   "execution_count": null,
   "metadata": {},
   "outputs": [],
   "source": [
    "## Convert session_duration into total seconds\n",
    "df1['sess_hr'] = df1.loc[:,\"session_duration\"].str.split(\" \").str[-6]\n",
    "df1['sess_min'] = df1.loc[:,\"session_duration\"].str.split(\" \").str[-4]\n",
    "df1['sess_sec'] = df1.loc[:,\"session_duration\"].str.split(\" \").str[-2]\n",
    "\n",
    "# respective calculations to get session_duration_total\n",
    "df1['session_duration_total'] = df1['sess_sec'].map(int)\n",
    "df1['sess_min'] = df1['sess_min'].fillna(0)\n",
    "df1['session_duration_total'] = df1['session_duration_total'] + df1['sess_min'].map(int)*60\n",
    "df1['sess_hr'] = df1['sess_hr'].fillna(0)\n",
    "df1['session_duration_total'] = df1['session_duration_total'] + df1['sess_hr'].map(int)*3600\n",
    "df1 = df1.drop(columns=['sess_sec','sess_hr','sess_min'],axis=1)"
   ]
  },
  {
   "cell_type": "code",
   "execution_count": null,
   "metadata": {},
   "outputs": [],
   "source": [
    "df1.shape"
   ]
  },
  {
   "cell_type": "code",
   "execution_count": null,
   "metadata": {},
   "outputs": [],
   "source": [
    "df1.columns"
   ]
  },
  {
   "cell_type": "code",
   "execution_count": 6,
   "metadata": {},
   "outputs": [],
   "source": [
    "# selecting relevant columns\n",
    "df1 = df1[['client_mac_address', 'association_time','ap_name', 'ssid', 'vlan_id', 'session_duration',\n",
    "          'WeekDay', 'Month', 'Day', 'Time', 'Hour', 'Minute', 'ap_general_location', 'ap_specific_location','session_duration_total']]"
   ]
  },
  {
   "cell_type": "code",
   "execution_count": 7,
   "metadata": {},
   "outputs": [],
   "source": [
    "df1.to_csv('Old_Cleaned_CSV_Data/Sep2019_wk1.csv', header=True, index=False)\n",
    "## Save to csv, restart kernal to clear memory space"
   ]
  },
  {
   "cell_type": "code",
   "execution_count": 8,
   "metadata": {},
   "outputs": [
    {
     "name": "stdout",
     "output_type": "stream",
     "text": [
      "Once deleted, variables cannot be recovered. Proceed (y/[n])? y\n"
     ]
    }
   ],
   "source": [
    "%reset"
   ]
  },
  {
   "cell_type": "code",
   "execution_count": 10,
   "metadata": {},
   "outputs": [],
   "source": [
    "# Read in csv file again and import libraries\n",
    "import pandas as pd\n",
    "import numpy as np\n",
    "import matplotlib.pyplot as plt\n",
    "\n",
    "df1 = pd.read_csv('Old_Cleaned_CSV_Data/Sep2019_wk1.csv')"
   ]
  },
  {
   "cell_type": "code",
   "execution_count": 11,
   "metadata": {},
   "outputs": [
    {
     "data": {
      "text/plain": [
       "Index(['client_mac_address', 'association_time', 'ap_name', 'ssid', 'vlan_id',\n",
       "       'session_duration', 'WeekDay', 'Month', 'Day', 'Time', 'Hour', 'Minute',\n",
       "       'ap_general_location', 'ap_specific_location'],\n",
       "      dtype='object')"
      ]
     },
     "execution_count": 11,
     "metadata": {},
     "output_type": "execute_result"
    }
   ],
   "source": [
    "df1.columns"
   ]
  },
  {
   "cell_type": "code",
   "execution_count": 12,
   "metadata": {},
   "outputs": [],
   "source": [
    "# Creating the 'lat' and 'long' columns to input the coordinates from the uniquelocations.csv file\n",
    "df1_uniqueLocation = pd.read_csv(\"uniqueLocation.csv\", delimiter=\",\", index_col=0)\n",
    "df1_uniqueLocation = df1_uniqueLocation.set_index('ap_specific_location')\n",
    "df1['lat'] = df1.ap_specific_location.map(df1_uniqueLocation.lat)\n",
    "df1['long'] = df1.ap_specific_location.map(df1_uniqueLocation.long)\n",
    "\n",
    "# Remove null values -- as null values are not on NTU main campus due to inability to retrieve coordinates\n",
    "df1 = df1[df1['lat'].notnull()]"
   ]
  },
  {
   "cell_type": "code",
   "execution_count": null,
   "metadata": {},
   "outputs": [],
   "source": [
    "df1.head()"
   ]
  },
  {
   "cell_type": "code",
   "execution_count": 13,
   "metadata": {},
   "outputs": [
    {
     "name": "stdout",
     "output_type": "stream",
     "text": [
      "['2Sep' '3Sep' '4Sep' '5Sep' '6Sep']\n",
      "['Mon' 'Tue' 'Wed' 'Thu' 'Fri']\n"
     ]
    }
   ],
   "source": [
    "df1.astype({'Day':'int32'})\n",
    "df1['DayMonth'] = df1['Day'].map(str) + df1['Month']\n",
    "print(df1['DayMonth'].unique())\n",
    "print(df1['WeekDay'].unique())\n",
    "## Data is 5 days"
   ]
  },
  {
   "cell_type": "code",
   "execution_count": 14,
   "metadata": {
    "scrolled": true
   },
   "outputs": [
    {
     "name": "stdout",
     "output_type": "stream",
     "text": [
      "Index(['client_mac_address', 'association_time', 'ap_name', 'ssid', 'vlan_id',\n",
      "       'session_duration', 'WeekDay', 'Month', 'Day', 'Time', 'Hour', 'Minute',\n",
      "       'ap_general_location', 'ap_specific_location', 'lat', 'long',\n",
      "       'DayMonth'],\n",
      "      dtype='object')\n",
      "(1218537, 17)\n"
     ]
    },
    {
     "data": {
      "text/html": [
       "<div>\n",
       "<style scoped>\n",
       "    .dataframe tbody tr th:only-of-type {\n",
       "        vertical-align: middle;\n",
       "    }\n",
       "\n",
       "    .dataframe tbody tr th {\n",
       "        vertical-align: top;\n",
       "    }\n",
       "\n",
       "    .dataframe thead th {\n",
       "        text-align: right;\n",
       "    }\n",
       "</style>\n",
       "<table border=\"1\" class=\"dataframe\">\n",
       "  <thead>\n",
       "    <tr style=\"text-align: right;\">\n",
       "      <th></th>\n",
       "      <th>client_mac_address</th>\n",
       "      <th>association_time</th>\n",
       "      <th>ap_name</th>\n",
       "      <th>ssid</th>\n",
       "      <th>vlan_id</th>\n",
       "      <th>session_duration</th>\n",
       "      <th>WeekDay</th>\n",
       "      <th>Month</th>\n",
       "      <th>Day</th>\n",
       "      <th>Time</th>\n",
       "      <th>Hour</th>\n",
       "      <th>Minute</th>\n",
       "      <th>ap_general_location</th>\n",
       "      <th>ap_specific_location</th>\n",
       "      <th>lat</th>\n",
       "      <th>long</th>\n",
       "      <th>DayMonth</th>\n",
       "    </tr>\n",
       "  </thead>\n",
       "  <tbody>\n",
       "    <tr>\n",
       "      <th>0</th>\n",
       "      <td>04:d6:aa:dc:c6:96</td>\n",
       "      <td>Mon Sep 02 01:04:49 SGT 2019</td>\n",
       "      <td>NS1-B1-01_AP6_NS1-B1-25</td>\n",
       "      <td>NTUSECURE</td>\n",
       "      <td>128</td>\n",
       "      <td>5 min 0 sec</td>\n",
       "      <td>Mon</td>\n",
       "      <td>Sep</td>\n",
       "      <td>2</td>\n",
       "      <td>01:04:49</td>\n",
       "      <td>1</td>\n",
       "      <td>4</td>\n",
       "      <td>NS1</td>\n",
       "      <td>NS1-B1</td>\n",
       "      <td>1.345331</td>\n",
       "      <td>103.680841</td>\n",
       "      <td>2Sep</td>\n",
       "    </tr>\n",
       "    <tr>\n",
       "      <th>1</th>\n",
       "      <td>2c:33:7a:40:dc:7b</td>\n",
       "      <td>Mon Sep 02 01:04:49 SGT 2019</td>\n",
       "      <td>SPMS-CBC-06-42_AP6_SPMSCBC05CR3</td>\n",
       "      <td>NTUSECURE</td>\n",
       "      <td>27</td>\n",
       "      <td>1 hrs 41 min 12 sec</td>\n",
       "      <td>Mon</td>\n",
       "      <td>Sep</td>\n",
       "      <td>2</td>\n",
       "      <td>01:04:49</td>\n",
       "      <td>1</td>\n",
       "      <td>4</td>\n",
       "      <td>SPMS</td>\n",
       "      <td>SPMS-CBC</td>\n",
       "      <td>1.341971</td>\n",
       "      <td>103.682218</td>\n",
       "      <td>2Sep</td>\n",
       "    </tr>\n",
       "    <tr>\n",
       "      <th>2</th>\n",
       "      <td>04:db:56:e4:29:a6</td>\n",
       "      <td>Mon Sep 02 01:04:49 SGT 2019</td>\n",
       "      <td>NS1-B1-26_AP10_NS1-B1-25</td>\n",
       "      <td>NTUSECURE</td>\n",
       "      <td>128</td>\n",
       "      <td>5 hrs 46 min 58 sec</td>\n",
       "      <td>Mon</td>\n",
       "      <td>Sep</td>\n",
       "      <td>2</td>\n",
       "      <td>01:04:49</td>\n",
       "      <td>1</td>\n",
       "      <td>4</td>\n",
       "      <td>NS1</td>\n",
       "      <td>NS1-B1</td>\n",
       "      <td>1.345331</td>\n",
       "      <td>103.680841</td>\n",
       "      <td>2Sep</td>\n",
       "    </tr>\n",
       "    <tr>\n",
       "      <th>3</th>\n",
       "      <td>78:7b:8a:ed:44:83</td>\n",
       "      <td>Mon Sep 02 01:04:49 SGT 2019</td>\n",
       "      <td>SPMS-PAP-04_19AP8_SPMS-04-CR3</td>\n",
       "      <td>NTUSECURE</td>\n",
       "      <td>27</td>\n",
       "      <td>5 min 0 sec</td>\n",
       "      <td>Mon</td>\n",
       "      <td>Sep</td>\n",
       "      <td>2</td>\n",
       "      <td>01:04:49</td>\n",
       "      <td>1</td>\n",
       "      <td>4</td>\n",
       "      <td>SPMS</td>\n",
       "      <td>SPMS-PAP</td>\n",
       "      <td>1.341971</td>\n",
       "      <td>103.682218</td>\n",
       "      <td>2Sep</td>\n",
       "    </tr>\n",
       "    <tr>\n",
       "      <th>4</th>\n",
       "      <td>14:a5:1a:6a:6b:17</td>\n",
       "      <td>Mon Sep 02 01:04:49 SGT 2019</td>\n",
       "      <td>NEC-03-28_AP5_NEC-03-E04</td>\n",
       "      <td>NTUWL</td>\n",
       "      <td>128</td>\n",
       "      <td>10 min 1 sec</td>\n",
       "      <td>Mon</td>\n",
       "      <td>Sep</td>\n",
       "      <td>2</td>\n",
       "      <td>01:04:49</td>\n",
       "      <td>1</td>\n",
       "      <td>4</td>\n",
       "      <td>NEC</td>\n",
       "      <td>NEC-03</td>\n",
       "      <td>1.351376</td>\n",
       "      <td>103.687899</td>\n",
       "      <td>2Sep</td>\n",
       "    </tr>\n",
       "  </tbody>\n",
       "</table>\n",
       "</div>"
      ],
      "text/plain": [
       "  client_mac_address              association_time  \\\n",
       "0  04:d6:aa:dc:c6:96  Mon Sep 02 01:04:49 SGT 2019   \n",
       "1  2c:33:7a:40:dc:7b  Mon Sep 02 01:04:49 SGT 2019   \n",
       "2  04:db:56:e4:29:a6  Mon Sep 02 01:04:49 SGT 2019   \n",
       "3  78:7b:8a:ed:44:83  Mon Sep 02 01:04:49 SGT 2019   \n",
       "4  14:a5:1a:6a:6b:17  Mon Sep 02 01:04:49 SGT 2019   \n",
       "\n",
       "                           ap_name       ssid  vlan_id     session_duration  \\\n",
       "0          NS1-B1-01_AP6_NS1-B1-25  NTUSECURE      128          5 min 0 sec   \n",
       "1  SPMS-CBC-06-42_AP6_SPMSCBC05CR3  NTUSECURE       27  1 hrs 41 min 12 sec   \n",
       "2         NS1-B1-26_AP10_NS1-B1-25  NTUSECURE      128  5 hrs 46 min 58 sec   \n",
       "3    SPMS-PAP-04_19AP8_SPMS-04-CR3  NTUSECURE       27          5 min 0 sec   \n",
       "4         NEC-03-28_AP5_NEC-03-E04      NTUWL      128         10 min 1 sec   \n",
       "\n",
       "  WeekDay Month  Day      Time  Hour  Minute ap_general_location  \\\n",
       "0     Mon   Sep    2  01:04:49     1       4                 NS1   \n",
       "1     Mon   Sep    2  01:04:49     1       4                SPMS   \n",
       "2     Mon   Sep    2  01:04:49     1       4                 NS1   \n",
       "3     Mon   Sep    2  01:04:49     1       4                SPMS   \n",
       "4     Mon   Sep    2  01:04:49     1       4                 NEC   \n",
       "\n",
       "  ap_specific_location       lat        long DayMonth  \n",
       "0               NS1-B1  1.345331  103.680841     2Sep  \n",
       "1             SPMS-CBC  1.341971  103.682218     2Sep  \n",
       "2               NS1-B1  1.345331  103.680841     2Sep  \n",
       "3             SPMS-PAP  1.341971  103.682218     2Sep  \n",
       "4               NEC-03  1.351376  103.687899     2Sep  "
      ]
     },
     "execution_count": 14,
     "metadata": {},
     "output_type": "execute_result"
    }
   ],
   "source": [
    "print(df1.columns)\n",
    "print(df1.shape)\n",
    "df1.head()"
   ]
  },
  {
   "cell_type": "code",
   "execution_count": 15,
   "metadata": {},
   "outputs": [],
   "source": [
    "df1.to_csv('Old_Cleaned_CSV_Data/Sep2019_wk1.csv', header=True, index=False)"
   ]
  },
  {
   "cell_type": "markdown",
   "metadata": {},
   "source": [
    "## Cleaning for Oct 2019 data"
   ]
  },
  {
   "cell_type": "code",
   "execution_count": 1,
   "metadata": {},
   "outputs": [
    {
     "name": "stdout",
     "output_type": "stream",
     "text": [
      "Once deleted, variables cannot be recovered. Proceed (y/[n])? y\n"
     ]
    }
   ],
   "source": [
    "%reset\n",
    "import pandas as pd\n",
    "import numpy as np\n",
    "import matplotlib.pyplot as plt"
   ]
  },
  {
   "cell_type": "code",
   "execution_count": 2,
   "metadata": {},
   "outputs": [
    {
     "name": "stdout",
     "output_type": "stream",
     "text": [
      "(263291, 18)\n",
      "(900000, 18)\n",
      "(1163291, 18)\n"
     ]
    }
   ],
   "source": [
    "Oct1 = pd.read_csv('Oct2019_Wk3_14-17.csv')\n",
    "Oct2 = pd.read_csv('Oct2019_Wk3_14-19.csv')\n",
    "print(Oct1.shape)\n",
    "print(Oct2.shape)\n",
    "df1 = pd.concat([Oct1,Oct2],axis=0)\n",
    "print(df1.shape)"
   ]
  },
  {
   "cell_type": "code",
   "execution_count": 3,
   "metadata": {},
   "outputs": [
    {
     "name": "stdout",
     "output_type": "stream",
     "text": [
      "Index(['client_ip_address', 'client_mac_address', 'association_time', 'vendor',\n",
      "       'ap_name', 'radio_type', 'device_name', 'map_location', 'ssid',\n",
      "       'profile', 'vlan_id', 'protocol', 'session_duration', 'policy_type',\n",
      "       'avg._session_throughput(kbps)', 'disassociation_time', 'reason',\n",
      "       'endpoint_type'],\n",
      "      dtype='object')\n"
     ]
    }
   ],
   "source": [
    "# cleaning column names\n",
    "df1.columns = df1.columns.str.strip().str.lower().str.replace(' ','_')\n",
    "print(df1.columns)"
   ]
  },
  {
   "cell_type": "code",
   "execution_count": 23,
   "metadata": {},
   "outputs": [],
   "source": [
    "# Splitting association time \n",
    "df1[\"WeekDay\"] = df1[\"association_time\"].str.split(\" \").str[0]\n",
    "df1[\"Month\"] = df1[\"association_time\"].str.split(\" \").str[1]\n",
    "df1[\"Day\"] = df1[\"association_time\"].str.split(\" \").str[2]\n",
    "df1[\"Time\"] = df1[\"association_time\"].str.split(\" \").str[3]\n",
    "df1[\"Hour\"] = df1[\"Time\"].str.split(\":\").str[0]\n",
    "df1[\"Minute\"] = df1[\"Time\"].str.split(\":\").str[1]"
   ]
  },
  {
   "cell_type": "code",
   "execution_count": 24,
   "metadata": {},
   "outputs": [],
   "source": [
    "# Splitting ap_name\n",
    "df1[\"ap_general_location\"] = df1[\"ap_name\"].str.split(\"_\").str[0].str.split(\"-\").str[0]\n",
    "df1[\"ap_specific_location\"] = df1[\"ap_name\"].str.split(\"_\").str[0].str.split(\"-\").str[0:2:1]\n",
    "df1[\"ap_specific_location\"] = df1[\"ap_specific_location\"].str.join(\"-\")"
   ]
  },
  {
   "cell_type": "code",
   "execution_count": 25,
   "metadata": {},
   "outputs": [
    {
     "name": "stdout",
     "output_type": "stream",
     "text": [
      "Index(['client_ip_address', 'client_mac_address', 'association_time', 'vendor',\n",
      "       'ap_name', 'radio_type', 'device_name', 'map_location', 'ssid',\n",
      "       'profile', 'vlan_id', 'protocol', 'session_duration', 'policy_type',\n",
      "       'avg._session_throughput(kbps)', 'disassociation_time', 'reason',\n",
      "       'endpoint_type', 'WeekDay', 'Month', 'Day', 'Time', 'Hour', 'Minute',\n",
      "       'ap_general_location', 'ap_specific_location'],\n",
      "      dtype='object')\n",
      "(1163291, 26)\n"
     ]
    }
   ],
   "source": [
    "print(df1.columns)\n",
    "print(df1.shape)"
   ]
  },
  {
   "cell_type": "code",
   "execution_count": 26,
   "metadata": {},
   "outputs": [],
   "source": [
    "# selecting relevant columns\n",
    "df1 = df1[['client_mac_address', 'association_time','ap_name', 'ssid', 'vlan_id', 'session_duration',\n",
    "          'WeekDay', 'Month', 'Day', 'Time', 'Hour', 'Minute', 'ap_general_location', 'ap_specific_location']]"
   ]
  },
  {
   "cell_type": "code",
   "execution_count": 27,
   "metadata": {},
   "outputs": [],
   "source": [
    "# Creating the 'lat' and 'long' columns to input the coordinates from the uniquelocations.csv file\n",
    "df1_uniqueLocation = pd.read_csv(\"uniqueLocation.csv\", delimiter=\",\", index_col=0)\n",
    "df1_uniqueLocation = df1_uniqueLocation.set_index('ap_specific_location')\n",
    "df1['lat'] = df1.ap_specific_location.map(df1_uniqueLocation.lat)\n",
    "df1['long'] = df1.ap_specific_location.map(df1_uniqueLocation.long)\n",
    "\n",
    "# Remove null values -- as null values are not on NTU main campus due to inability to retrieve coordinates\n",
    "df1 = df1[df1['lat'].notnull()]"
   ]
  },
  {
   "cell_type": "code",
   "execution_count": 28,
   "metadata": {},
   "outputs": [
    {
     "name": "stdout",
     "output_type": "stream",
     "text": [
      "['16Oct' '17Oct' '18Oct' '14Oct' '15Oct' '19Oct']\n",
      "['Wed' 'Thu' 'Fri' 'Mon' 'Tue' 'Sat']\n"
     ]
    }
   ],
   "source": [
    "df1.astype({'Day':'int32'})\n",
    "df1['DayMonth'] = df1['Day'].map(str) + df1['Month']\n",
    "print(df1['DayMonth'].unique())\n",
    "print(df1['WeekDay'].unique())\n",
    "## Data is 6 Days"
   ]
  },
  {
   "cell_type": "code",
   "execution_count": 29,
   "metadata": {},
   "outputs": [],
   "source": [
    "df1.to_csv('Old_Cleaned_CSV_Data/Oct2019_wk3.csv', header=True, index=False)"
   ]
  }
 ],
 "metadata": {
  "kernelspec": {
   "display_name": "Python 3",
   "language": "python",
   "name": "python3"
  },
  "language_info": {
   "codemirror_mode": {
    "name": "ipython",
    "version": 3
   },
   "file_extension": ".py",
   "mimetype": "text/x-python",
   "name": "python",
   "nbconvert_exporter": "python",
   "pygments_lexer": "ipython3",
   "version": "3.7.2"
  }
 },
 "nbformat": 4,
 "nbformat_minor": 2
}
